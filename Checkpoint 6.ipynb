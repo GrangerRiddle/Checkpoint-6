{
 "cells": [
  {
   "cell_type": "code",
   "execution_count": 2,
   "id": "17705c1e",
   "metadata": {},
   "outputs": [
    {
     "name": "stdout",
     "output_type": "stream",
     "text": [
      "[3, 7, 2]\n"
     ]
    }
   ],
   "source": [
    "# Question 1\n",
    "import numpy as np\n",
    "a = np.array([3,7,2])\n",
    "list1 = a.tolist()\n",
    "print(list1)"
   ]
  },
  {
   "cell_type": "code",
   "execution_count": 12,
   "id": "f6fb7ed8",
   "metadata": {},
   "outputs": [
    {
     "name": "stdout",
     "output_type": "stream",
     "text": [
      "15\n"
     ]
    }
   ],
   "source": [
    "# Question 2\n",
    "import numpy as np\n",
    "b = np.array([[1,2,3],[4,5,6],[7,8,9]])\n",
    "b_sum = np.trace(b)\n",
    "print(b_sum)"
   ]
  },
  {
   "cell_type": "code",
   "execution_count": 34,
   "id": "379e710e",
   "metadata": {},
   "outputs": [
    {
     "name": "stdout",
     "output_type": "stream",
     "text": [
      "[6, 7, 8, 9]\n"
     ]
    }
   ],
   "source": [
    "# Question 3 method n°1\n",
    "import numpy as np\n",
    "b = np.array([[1,2,3],[4,5,6],[7,8,9]])\n",
    "x = 5\n",
    "list2 = b.tolist()\n",
    "values_higher_x = []\n",
    "for i in list2:\n",
    "    for y in i:\n",
    "        if y > x:\n",
    "            values_higher_x.append(y)\n",
    "print(values_higher_x)"
   ]
  },
  {
   "cell_type": "code",
   "execution_count": 56,
   "id": "31e32f3c",
   "metadata": {},
   "outputs": [
    {
     "name": "stdout",
     "output_type": "stream",
     "text": [
      "[6, 7, 8, 9]\n"
     ]
    },
    {
     "data": {
      "text/plain": [
       "(3, 3)"
      ]
     },
     "execution_count": 56,
     "metadata": {},
     "output_type": "execute_result"
    }
   ],
   "source": [
    "# Question 3 method n°2\n",
    "import numpy as np\n",
    "b = np.array([[1,2,3],[4,5,6],[7,8,9]])\n",
    "values_higher_x = []\n",
    "for i in range(b.shape[0]):\n",
    "    for j in range(b.shape[1]):\n",
    "        if b[i,j] > x:\n",
    "            values_higher_x.append(b[i,j])\n",
    "print(values_higher_x)\n",
    "b.shape"
   ]
  },
  {
   "cell_type": "code",
   "execution_count": 64,
   "id": "96b824c6",
   "metadata": {},
   "outputs": [
    {
     "data": {
      "text/plain": [
       "array([[ 6.,  8.],\n",
       "       [10., 12.]])"
      ]
     },
     "execution_count": 64,
     "metadata": {},
     "output_type": "execute_result"
    }
   ],
   "source": [
    "# Question 4\n",
    "import numpy as np\n",
    "A = np.array([[1,2],[3,4]])\n",
    "B = np.array([[5,6],[7,8]])\n",
    "C = np.empty(A.shape, dtype = float)\n",
    "for i in range(B.shape[0]):\n",
    "    for j in range(B.shape[1]):\n",
    "        C[i,j] = A[i,j]+B[i,j]\n",
    "C"
   ]
  },
  {
   "cell_type": "code",
   "execution_count": 75,
   "id": "4d0b29ba",
   "metadata": {},
   "outputs": [
    {
     "data": {
      "text/plain": [
       "array([[-4., -3., -2.],\n",
       "       [-1.,  0.,  1.],\n",
       "       [ 2.,  3.,  4.]])"
      ]
     },
     "execution_count": 75,
     "metadata": {},
     "output_type": "execute_result"
    }
   ],
   "source": [
    "# Question 5\n",
    "import numpy as np\n",
    "b = np.array([[1,2,3],[4,5,6],[7,8,9]])\n",
    "c = np.empty(b.shape, dtype = float)\n",
    "mean_array = np.mean(b)\n",
    "for i in range(b.shape[0]):\n",
    "    for j in range(b.shape[1]):\n",
    "        c[i,j] = b[i,j] - mean_array\n",
    "c"
   ]
  }
 ],
 "metadata": {
  "kernelspec": {
   "display_name": "Python 3",
   "language": "python",
   "name": "python3"
  },
  "language_info": {
   "codemirror_mode": {
    "name": "ipython",
    "version": 3
   },
   "file_extension": ".py",
   "mimetype": "text/x-python",
   "name": "python",
   "nbconvert_exporter": "python",
   "pygments_lexer": "ipython3",
   "version": "3.8.8"
  }
 },
 "nbformat": 4,
 "nbformat_minor": 5
}
